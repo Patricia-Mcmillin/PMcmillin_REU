{
 "cells": [
  {
   "cell_type": "code",
   "execution_count": 5,
   "metadata": {},
   "outputs": [],
   "source": [
    "import sys, os\n",
    "from icecube import icetray, dataclasses, dataio\n",
    "from I3Tray import I3Tray\n",
    "import numpy as np\n",
    "import math\n",
    "import matplotlib.pyplot as plt\n",
    "from mpl_toolkits import mplot3d\n",
    "import random \n",
    "\n",
    "gcdFile = dataio.I3File('/cvmfs/icecube.opensciencegrid.org/data/GCD/GeoCalibDetectorStatus_2020.Run134142.Pass2_V0.i3.gz')\n",
    "frame = gcdFile.pop_frame()\n",
    "\n",
    "while not frame.Has('I3Geometry'):\n",
    "    frame = gcdFile.pop_frame()\n",
    "geometry = frame.Get('I3Geometry')\n",
    "om_geometry = geometry.omgeo\n",
    "\n",
    "dom_x_positions=np.zeros((87,67))\n",
    "dom_y_positions=np.zeros((87,67))\n",
    "dom_z_positions=np.zeros((87,67))\n",
    "\n",
    "for om, geo_info in om_geometry:\n",
    "    dom_x_positions[om[0],om[1]]=geo_info.position.x\n",
    "    dom_y_positions[om[0],om[1]]=geo_info.position.y\n",
    "    dom_z_positions[om[0],om[1]]=geo_info.position.z\n",
    "    \n",
    "#places the selected string numbers of x, y, z positions into a new array\n",
    "gen2_dom_x_positions = np.concatenate((dom_x_positions[1:6:2], dom_x_positions[14:21:2], dom_x_positions[31:40:2], dom_x_positions[51:60:2], dom_x_positions[68:75:2]))\n",
    "gen2_dom_y_positions = np.concatenate((dom_y_positions[1:6:2], dom_y_positions[14:21:2], dom_y_positions[31:40:2], dom_y_positions[51:60:2], dom_y_positions[68:75:2]))\n",
    "gen2_dom_z_positions = np.concatenate((dom_z_positions[1:6:2], dom_z_positions[14:21:2], dom_z_positions[31:40:2], dom_z_positions[51:60:2], dom_z_positions[68:75:2]))\n"
   ]
  },
  {
   "cell_type": "code",
   "execution_count": 6,
   "metadata": {},
   "outputs": [],
   "source": [
    "def IC_bounds():\n",
    "    x31_x75 = np.array([dom_x_positions[31][1],dom_x_positions[75][1]])\n",
    "    y31_y75 = np.array([dom_y_positions[31][1],dom_y_positions[75][1]])\n",
    "    \n",
    "    x75_x78 = np.array([dom_x_positions[75][1],dom_x_positions[78][1]])\n",
    "    y75_y78 = np.array([dom_y_positions[75][1],dom_y_positions[78][1]])\n",
    "    \n",
    "    x78_x72 = np.array([dom_x_positions[78][1],dom_x_positions[72][1]])\n",
    "    y78_y72 = np.array([dom_y_positions[78][1],dom_y_positions[72][1]])\n",
    "    \n",
    "    x72_x74 = np.array([dom_x_positions[72][1],dom_x_positions[74][1]])\n",
    "    y72_y74 = np.array([dom_y_positions[72][1],dom_y_positions[74][1]])\n",
    "    \n",
    "    x74_x50 = np.array([dom_x_positions[74][1],dom_x_positions[50][1]])\n",
    "    y74_y50 = np.array([dom_y_positions[74][1],dom_y_positions[50][1]])\n",
    "    \n",
    "    x50_x6 = np.array([dom_x_positions[50][1],dom_x_positions[6][1]])\n",
    "    y50_y6 = np.array([dom_y_positions[50][1],dom_y_positions[6][1]])\n",
    "    \n",
    "    x6_x1 = np.array([dom_x_positions[6][1],dom_x_positions[1][1]])\n",
    "    y6_y1 = np.array([dom_y_positions[6][1],dom_y_positions[1][1]])\n",
    "    \n",
    "    x1_x31 = np.array([dom_x_positions[1][1],dom_x_positions[31][1]])\n",
    "    y1_y31 = np.array([dom_y_positions[1][1],dom_y_positions[31][1]])\n",
    "    \n",
    "    plt.plot(x31_x75, y31_y75, color='red')\n",
    "    plt.plot(x75_x78, y75_y78, color='red')\n",
    "    plt.plot(x78_x72, y78_y72, color='red')\n",
    "    plt.plot(x72_x74, y72_y74, color='red')\n",
    "    plt.plot(x74_x50, y74_y50, color='red')\n",
    "    plt.plot(x50_x6, y50_y6, color='red')\n",
    "    plt.plot(x6_x1, y6_y1, color='red')\n",
    "    plt.plot(x1_x31, y1_y31, color='red')\n",
    "    "
   ]
  },
  {
   "cell_type": "markdown",
   "metadata": {},
   "source": [
    "### method to generate sunflower geometry using slides from Lu\n",
    "- took 𝑟 = 𝑠√𝑛, 𝜙 = (2𝜋/𝑔^2)*𝑛 from arXiv:2107.08527v2 using n as the natural numbers (0,21) and s = 240 m for string spacin"
   ]
  },
  {
   "cell_type": "code",
   "execution_count": 60,
   "metadata": {},
   "outputs": [],
   "source": [
    "\"\"\"  start_n: initial value of n\n",
    "     stop n: end value of n\n",
    "     s: scale factor to define string spacing\n",
    "\"\"\"\n",
    "\n",
    "def sunflower_coords(start_n, stop_n, s):\n",
    "    #golden ratio\n",
    "    g = (1 + math.sqrt(5))/2\n",
    "    \n",
    "    r_positions = []\n",
    "    for n in range(start_n,stop_n):\n",
    "        r = s*((n)**(1/2))\n",
    "        r_positions = np.append(r_positions, r)\n",
    "    #print('this is r_positions')\n",
    "    #print(r_positions)\n",
    "    \n",
    "    #convert (r,theta) to (x, y)\n",
    "    x_points = []\n",
    "    y_points = []\n",
    "    t = 0\n",
    "    t_add = ((2*math.pi)/(g**2))\n",
    "    #print(\"initial t\")\n",
    "    #print(t)\n",
    "    for r in r_positions:\n",
    "        x = r*(math.cos(t))\n",
    "        y = r*(math.sin(t))\n",
    "        t = t + t_add\n",
    "        #print(t)\n",
    "        x_points = np.append(x_points, x)\n",
    "        y_points = np.append(y_points, y)\n",
    "        \n",
    "    split_size = 67\n",
    "    x_points = np.repeat(x_points, 67)\n",
    "    y_points = np.repeat(y_points, 67)\n",
    "    xx_1 = [x_points[i:i+split_size] for i in range(0, len(x_points), split_size)]\n",
    "    yy_1 = [y_points[i:i+split_size] for i in range(0, len(y_points), split_size)]\n",
    "    xx_2 = np.asarray(xx_1)\n",
    "    yy_2 = np.asarray(yy_1)\n",
    "    #print(\"x points\")\n",
    "    #print(x_points)\n",
    "    #print('y points')\n",
    "    #print(y_points)\n",
    "    \n",
    "    return xx_2, yy_2"
   ]
  },
  {
   "cell_type": "code",
   "execution_count": 63,
   "metadata": {},
   "outputs": [
    {
     "name": "stdout",
     "output_type": "stream",
     "text": [
      "[[   0.            0.            0.         ...    0.\n",
      "     0.            0.        ]\n",
      " [ -88.48426537  -88.48426537  -88.48426537 ...  -88.48426537\n",
      "   -88.48426537  -88.48426537]\n",
      " [  14.83663747   14.83663747   14.83663747 ...   14.83663747\n",
      "    14.83663747   14.83663747]\n",
      " ...\n",
      " [ 360.8770216   360.8770216   360.8770216  ...  360.8770216\n",
      "   360.8770216   360.8770216 ]\n",
      " [ -24.16126139  -24.16126139  -24.16126139 ...  -24.16126139\n",
      "   -24.16126139  -24.16126139]\n",
      " [-343.84060847 -343.84060847 -343.84060847 ... -343.84060847\n",
      "  -343.84060847 -343.84060847]]\n",
      "67\n",
      "[[   0.            0.            0.         ...    0.\n",
      "     0.            0.        ]\n",
      " [  81.05883531   81.05883531   81.05883531 ...   81.05883531\n",
      "    81.05883531   81.05883531]\n",
      " [-169.05583157 -169.05583157 -169.05583157 ... -169.05583157\n",
      "  -169.05583157 -169.05583157]\n",
      " ...\n",
      " [-359.1208366  -359.1208366  -359.1208366  ... -359.1208366\n",
      "  -359.1208366  -359.1208366 ]\n",
      " [ 522.50955345  522.50955345  522.50955345 ...  522.50955345\n",
      "   522.50955345  522.50955345]\n",
      " [-412.03596441 -412.03596441 -412.03596441 ... -412.03596441\n",
      "  -412.03596441 -412.03596441]]\n",
      "67\n"
     ]
    }
   ],
   "source": [
    "x , y = sunflower_coords(0,21,120)\n",
    "print(x)\n",
    "print(len(x[0]))\n",
    "print(y)\n",
    "print(len(y[0]))"
   ]
  },
  {
   "cell_type": "code",
   "execution_count": 64,
   "metadata": {},
   "outputs": [],
   "source": [
    "\"\"\"  x: choosen x cooordinates\n",
    "     y: choosen y coordinates\n",
    "     random_gen: random number generator used to create x,y coordinates\n",
    "\"\"\"\n",
    "def plot_2d_icetop(x, y, random_gen):\n",
    "    fig, ax = plt.subplots()\n",
    "    ax.set_xlabel('X-axis (m)')\n",
    "    ax.set_ylabel('Y-axis (m)')\n",
    "    ax.set_title(\"2D Gen2 Geometry with IceTop \\n\" + random_gen)\n",
    "    IC_bounds()\n",
    "    ax.scatter(x, y, s =9, c='blue')\n",
    "    return fig\n",
    "    "
   ]
  },
  {
   "cell_type": "code",
   "execution_count": 65,
   "metadata": {},
   "outputs": [
    {
     "name": "stdout",
     "output_type": "stream",
     "text": [
      "done\n"
     ]
    },
    {
     "data": {
      "image/png": "[encoded data removed]",
      "text/plain": [
       "<Figure size 432x288 with 1 Axes>"
      ]
     },
     "metadata": {
      "needs_background": "light"
     },
     "output_type": "display_data"
    }
   ],
   "source": [
    "plot_2d_icetop(x, y, \"using Fibonacci Sequence\")\n",
    "print('done')"
   ]
  },
  {
   "cell_type": "markdown",
   "metadata": {},
   "source": [
    "### method to generate sunflower geometry using chromoSpirals.py from http://pi3.sites.sheffield.ac.uk/tutorials/week-2\n"
   ]
  },
  {
   "cell_type": "code",
   "execution_count": 49,
   "metadata": {},
   "outputs": [],
   "source": [
    "# chromoSpirals.py\n",
    "# ----------------\n",
    "# Code written by Peter Derlien, University of Sheffield, March 2013\n",
    "# Draws spiralling patterns of circles using the Golden Angle.\n",
    "# ----------------\n",
    "\n",
    "# Import from the numpy and matplotlib packages.\n",
    "import numpy as np\n",
    "import matplotlib.pyplot as plt\n",
    "import matplotlib\n",
    "from matplotlib.collections import PatchCollection\n",
    "import matplotlib.patches as mpatches\n",
    "\n",
    "def chromo_spiral_coords(n_strings, theta_initial, s):\n",
    "    ox=0.0; oy=0.0 # centre of plot\n",
    "\n",
    "    tau=(1+5**0.5)/2.0 # golden ratio approx = 1.618033989\n",
    "    #(2-tau)*2*np.pi is golden angle = c. 2.39996323 radians, or c. 137.5 degrees\n",
    "    inc = (2-tau)*2*np.pi\n",
    "    drad=(1+5**0.5)/8.0 # radius of each disc\n",
    "\n",
    "    # now collect in list 'patches' the locations of all the discs\n",
    "    x_pos = []\n",
    "    y_pos =[]\n",
    "    for j in range(1,n_strings+1):\n",
    "        r = j**0.5\n",
    "        theta_initial += inc\n",
    "        x = ox + r*np.cos(theta_initial)\n",
    "        y = oy + r*np.sin(theta_initial)\n",
    "        x_pos = np.insert(x_pos, j-1, x)\n",
    "        y_pos = np.insert(y_pos, j-1, y)\n",
    "        \n",
    "    x_coords = s*x_pos\n",
    "    y_coords = s*y_pos\n",
    "    \n",
    "    split_size = 67\n",
    "    x_coords = np.repeat(x_coords, 67)\n",
    "    y_coords = np.repeat(y_coords, 67)\n",
    "    xx_1 = [x_coords[i:i+split_size] for i in range(0, len(x_coords), split_size)]\n",
    "    yy_1 = [y_coords[i:i+split_size] for i in range(0, len(y_coords), split_size)]\n",
    "    xx_2 = np.asarray(xx_1)\n",
    "    yy_2 = np.asarray(yy_1)\n",
    "    print(\"x positions\")\n",
    "    print(xx_2)\n",
    "    print(\"y positions\")\n",
    "    print(yy_2)\n",
    "    \n",
    "    return xx_2, yy_2\n",
    "    "
   ]
  },
  {
   "cell_type": "code",
   "execution_count": 56,
   "metadata": {},
   "outputs": [
    {
     "name": "stdout",
     "output_type": "stream",
     "text": [
      "x positions\n",
      "[[ -88.48426537  -88.48426537  -88.48426537 ...  -88.48426537\n",
      "   -88.48426537  -88.48426537]\n",
      " [  14.83663747   14.83663747   14.83663747 ...   14.83663747\n",
      "    14.83663747   14.83663747]\n",
      " [ 126.46164246  126.46164246  126.46164246 ...  126.46164246\n",
      "   126.46164246  126.46164246]\n",
      " ...\n",
      " [ -24.16126139  -24.16126139  -24.16126139 ...  -24.16126139\n",
      "   -24.16126139  -24.16126139]\n",
      " [-343.84060847 -343.84060847 -343.84060847 ... -343.84060847\n",
      "  -343.84060847 -343.84060847]\n",
      " [ 544.99807234  544.99807234  544.99807234 ...  544.99807234\n",
      "   544.99807234  544.99807234]]\n",
      "y positions\n",
      "[[  81.05883531   81.05883531   81.05883531 ...   81.05883531\n",
      "    81.05883531   81.05883531]\n",
      " [-169.05583157 -169.05583157 -169.05583157 ... -169.05583157\n",
      "  -169.05583157 -169.05583157]\n",
      " [ 164.94681866  164.94681866  164.94681866 ...  164.94681866\n",
      "   164.94681866  164.94681866]\n",
      " ...\n",
      " [ 522.50955345  522.50955345  522.50955345 ...  522.50955345\n",
      "   522.50955345  522.50955345]\n",
      " [-412.03596441 -412.03596441 -412.03596441 ... -412.03596441\n",
      "  -412.03596441 -412.03596441]\n",
      " [  73.32871981   73.32871981   73.32871981 ...   73.32871981\n",
      "    73.32871981   73.32871981]]\n",
      "67\n",
      "<class 'numpy.ndarray'>\n"
     ]
    }
   ],
   "source": [
    "xx, yy = chromo_spiral_coords(21, 0, 120)\n",
    "print(len(xx[0]))\n",
    "print(type(xx[0]))"
   ]
  },
  {
   "cell_type": "code",
   "execution_count": 58,
   "metadata": {},
   "outputs": [
    {
     "name": "stdout",
     "output_type": "stream",
     "text": [
      "done\n"
     ]
    },
    {
     "data": {
      "image/png": "[encoded data removed]",
      "text/plain": [
       "<Figure size 432x288 with 1 Axes>"
      ]
     },
     "metadata": {
      "needs_background": "light"
     },
     "output_type": "display_data"
    }
   ],
   "source": [
    "plot_2d_icetop(xx, yy, \"using chromospirals\")\n",
    "print('done')"
   ]
  },
  {
   "cell_type": "code",
   "execution_count": null,
   "metadata": {},
   "outputs": [],
   "source": []
  }
 ],
 "metadata": {
  "kernelspec": {
   "display_name": "Python 3",
   "language": "python",
   "name": "python3"
  },
  "language_info": {
   "codemirror_mode": {
    "name": "ipython",
    "version": 3
   },
   "file_extension": ".py",
   "mimetype": "text/x-python",
   "name": "python",
   "nbconvert_exporter": "python",
   "pygments_lexer": "ipython3",
   "version": "3.7.5"
  }
 },
 "nbformat": 4,
 "nbformat_minor": 2
}
