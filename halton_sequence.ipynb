{
 "cells": [
  {
   "cell_type": "code",
   "execution_count": 15,
   "id": "3f59b0f5-d685-4d6a-be07-e935b3e46b05",
   "metadata": {},
   "outputs": [],
   "source": [
    "#off of wikipedia\n",
    "def halton(b):\n",
    "    #Generator function for Halton sequence.\n",
    "    n, d = 0, 1\n",
    "    while True:\n",
    "        x = d - n\n",
    "        if x == 1:\n",
    "            n = 1\n",
    "            d *= b\n",
    "        else:\n",
    "            y = d // b\n",
    "            while x <= y:\n",
    "                y //= b\n",
    "            n = (b + 1) * y - x\n",
    "        yield n / d"
   ]
  },
  {
   "cell_type": "code",
   "execution_count": 8,
   "id": "c45e2405-8e7e-466a-b2af-2ee12dd317a1",
   "metadata": {},
   "outputs": [
    {
     "name": "stdout",
     "output_type": "stream",
     "text": [
      "<generator object halton at 0x7fbe0038f890>\n"
     ]
    }
   ],
   "source": [
    "x = halton(5)\n",
    "print(x)"
   ]
  },
  {
   "cell_type": "code",
   "execution_count": 14,
   "id": "93f27960-1451-429b-b414-9a3e37faf1b3",
   "metadata": {},
   "outputs": [
    {
     "name": "stdout",
     "output_type": "stream",
     "text": [
      "[0.0, 0.5, 0.25, 0.75, 0.125, 0.625, 0.375, 0.875, 0.0625, 0.5625]\n",
      "[0.25       0.66666667 0.4        0.28571429 0.18181818 0.15384615\n",
      " 0.11764706 0.10526316 0.08695652 0.06896552 0.06451613 0.05405405\n",
      " 0.04878049 0.04651163 0.04255319 0.03773585 0.03389831 0.03278689\n",
      " 0.02985075 0.02816901 0.02739726 0.02531646 0.02409639 0.02247191\n",
      " 0.02061856 0.01980198 0.01941748 0.01869159 0.01834862 0.01769912\n",
      " 0.01574803 0.01526718 0.01459854 0.01438849 0.01342282 0.01324503\n",
      " 0.01273885 0.01226994 0.01197605 0.01156069 0.01117318 0.01104972\n",
      " 0.0104712  0.01036269 0.01015228 0.01005025 0.00947867 0.00896861\n",
      " 0.00881057 0.00873362 0.00858369 0.0083682  0.00829876 0.00796813\n",
      " 0.0077821  0.00760456 0.00743494 0.00738007 0.00722022 0.00711744\n",
      " 0.00706714 0.00682594 0.00651466 0.00643087 0.00638978 0.00630915\n",
      " 0.0060423 ]\n",
      "21\n"
     ]
    }
   ],
   "source": [
    "#from tupui/halton.py on github\n",
    "\n",
    "import numpy as np\n",
    "\n",
    "\n",
    "def primes_from_2_to(n):\n",
    "    \"\"\"Prime number from 2 to n.\n",
    "    From `StackOverflow <https://stackoverflow.com/questions/2068372>`_.\n",
    "    :param int n: sup bound with ``n >= 6``.\n",
    "    :return: primes in 2 <= p < n.\n",
    "    :rtype: list\n",
    "    \"\"\"\n",
    "    sieve = np.ones(n // 3 + (n % 6 == 2), dtype=np.bool)\n",
    "    for i in range(1, int(n ** 0.5) // 3 + 1):\n",
    "        if sieve[i]:\n",
    "            k = 3 * i + 1 | 1\n",
    "            sieve[k * k // 3::2 * k] = False\n",
    "            sieve[k * (k - 2 * (i & 1) + 4) // 3::2 * k] = False\n",
    "    return np.r_[2, 3, ((3 * np.nonzero(sieve)[0][1:] + 1) | 1)]\n",
    "\n",
    "\n",
    "def van_der_corput(n_sample, base=2):\n",
    "    \"\"\"Van der Corput sequence.\n",
    "    :param int n_sample: number of element of the sequence.\n",
    "    :param int base: base of the sequence.\n",
    "    :return: sequence of Van der Corput.\n",
    "    :rtype: list (n_samples,)\n",
    "    \"\"\"\n",
    "    sequence = []\n",
    "    for i in range(n_sample):\n",
    "        n_th_number, denom = 0., 1.\n",
    "        while i > 0:\n",
    "            i, remainder = divmod(i, base)\n",
    "            denom *= base\n",
    "            n_th_number += remainder / denom\n",
    "        sequence.append(n_th_number)\n",
    "\n",
    "    return sequence\n",
    "\n",
    "\n",
    "def halton(dim, n_sample):\n",
    "    \"\"\"Halton sequence.\n",
    "    :param int dim: dimension\n",
    "    :param int n_sample: number of samples.\n",
    "    :return: sequence of Halton.\n",
    "    :rtype: array_like (n_samples, n_features)\n",
    "    \"\"\"\n",
    "    big_number = 10\n",
    "    while 'Not enought primes':\n",
    "        base = primes_from_2_to(big_number)[:dim]\n",
    "        if len(base) == dim:\n",
    "            break\n",
    "        big_number += 1000\n",
    "\n",
    "    # Generate a sample using a Van der Corput sequence per dimension.\n",
    "    sample = [van_der_corput(n_sample + 1, dim) for dim in base]\n",
    "    sample = np.stack(sample, axis=-1)[1:]\n",
    "\n",
    "    return sample\n",
    "\n",
    "\n",
    "print(van_der_corput(10))\n",
    "# [0.0, 0.5, 0.25, 0.75, 0.125, 0.625, 0.375, 0.875, 0.0625, 0.5625]\n",
    "print(halton(67, 21)[1])\n",
    "print(len(halton(67,21)))\n",
    "# [[ 0.5         0.33333333]\n",
    "#  [ 0.25        0.66666667]\n",
    "#  [ 0.75        0.11111111]\n",
    "#  [ 0.125       0.44444444]\n",
    "#  [ 0.625       0.77777778]]"
   ]
  },
  {
   "cell_type": "code",
   "execution_count": null,
   "id": "5fe95aba-491b-4dec-adf3-31fafc702b56",
   "metadata": {},
   "outputs": [],
   "source": []
  }
 ],
 "metadata": {
  "kernelspec": {
   "display_name": "Python 3 (ipykernel)",
   "language": "python",
   "name": "python3"
  },
  "language_info": {
   "codemirror_mode": {
    "name": "ipython",
    "version": 3
   },
   "file_extension": ".py",
   "mimetype": "text/x-python",
   "name": "python",
   "nbconvert_exporter": "python",
   "pygments_lexer": "ipython3",
   "version": "3.8.10"
  }
 },
 "nbformat": 4,
 "nbformat_minor": 5
}
