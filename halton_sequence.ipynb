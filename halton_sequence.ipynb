{
 "cells": [
  {
   "cell_type": "code",
   "execution_count": 2,
   "metadata": {},
   "outputs": [],
   "source": [
    "import sys, os\n",
    "from icecube import icetray, dataclasses, dataio\n",
    "from I3Tray import I3Tray\n",
    "import numpy as np\n",
    "import matplotlib.pyplot as plt\n",
    "from mpl_toolkits import mplot3d\n",
    "import math\n",
    "\n",
    "gcdFile = dataio.I3File('/cvmfs/icecube.opensciencegrid.org/data/GCD/GeoCalibDetectorStatus_2020.Run134142.Pass2_V0.i3.gz')\n",
    "frame = gcdFile.pop_frame()\n",
    "\n",
    "while not frame.Has('I3Geometry'):\n",
    "    frame = gcdFile.pop_frame()\n",
    "geometry = frame.Get('I3Geometry')\n",
    "om_geometry = geometry.omgeo\n",
    "\n",
    "dom_x_positions=np.zeros((87,67))\n",
    "dom_y_positions=np.zeros((87,67))\n",
    "dom_z_positions=np.zeros((87,67))\n",
    "\n",
    "for om, geo_info in om_geometry:\n",
    "    dom_x_positions[om[0],om[1]]=geo_info.position.x\n",
    "    dom_y_positions[om[0],om[1]]=geo_info.position.y\n",
    "    dom_z_positions[om[0],om[1]]=geo_info.position.z\n",
    "    \n",
    "#places the selected string numbers of x, y, z positions into a new array\n",
    "gen2_dom_x_positions = np.concatenate((dom_x_positions[1:6:2], dom_x_positions[14:21:2], dom_x_positions[31:40:2], dom_x_positions[51:60:2], dom_x_positions[68:75:2]))\n",
    "gen2_dom_y_positions = np.concatenate((dom_y_positions[1:6:2], dom_y_positions[14:21:2], dom_y_positions[31:40:2], dom_y_positions[51:60:2], dom_y_positions[68:75:2]))\n",
    "gen2_dom_z_positions = np.concatenate((dom_z_positions[1:6:2], dom_z_positions[14:21:2], dom_z_positions[31:40:2], dom_z_positions[51:60:2], dom_z_positions[68:75:2]))\n"
   ]
  },
  {
   "cell_type": "code",
   "execution_count": 3,
   "metadata": {},
   "outputs": [],
   "source": [
    "def IC_bounds():\n",
    "    x31_x75 = np.array([dom_x_positions[31][1],dom_x_positions[75][1]])\n",
    "    y31_y75 = np.array([dom_y_positions[31][1],dom_y_positions[75][1]])\n",
    "    \n",
    "    x75_x78 = np.array([dom_x_positions[75][1],dom_x_positions[78][1]])\n",
    "    y75_y78 = np.array([dom_y_positions[75][1],dom_y_positions[78][1]])\n",
    "    \n",
    "    x78_x72 = np.array([dom_x_positions[78][1],dom_x_positions[72][1]])\n",
    "    y78_y72 = np.array([dom_y_positions[78][1],dom_y_positions[72][1]])\n",
    "    \n",
    "    x72_x74 = np.array([dom_x_positions[72][1],dom_x_positions[74][1]])\n",
    "    y72_y74 = np.array([dom_y_positions[72][1],dom_y_positions[74][1]])\n",
    "    \n",
    "    x74_x50 = np.array([dom_x_positions[74][1],dom_x_positions[50][1]])\n",
    "    y74_y50 = np.array([dom_y_positions[74][1],dom_y_positions[50][1]])\n",
    "    \n",
    "    x50_x6 = np.array([dom_x_positions[50][1],dom_x_positions[6][1]])\n",
    "    y50_y6 = np.array([dom_y_positions[50][1],dom_y_positions[6][1]])\n",
    "    \n",
    "    x6_x1 = np.array([dom_x_positions[6][1],dom_x_positions[1][1]])\n",
    "    y6_y1 = np.array([dom_y_positions[6][1],dom_y_positions[1][1]])\n",
    "    \n",
    "    x1_x31 = np.array([dom_x_positions[1][1],dom_x_positions[31][1]])\n",
    "    y1_y31 = np.array([dom_y_positions[1][1],dom_y_positions[31][1]])\n",
    "    \n",
    "    plt.plot(x31_x75, y31_y75, color='red')\n",
    "    plt.plot(x75_x78, y75_y78, color='red')\n",
    "    plt.plot(x78_x72, y78_y72, color='red')\n",
    "    plt.plot(x72_x74, y72_y74, color='red')\n",
    "    plt.plot(x74_x50, y74_y50, color='red')\n",
    "    plt.plot(x50_x6, y50_y6, color='red')\n",
    "    plt.plot(x6_x1, y6_y1, color='red')\n",
    "    plt.plot(x1_x31, y1_y31, color='red')\n",
    "    "
   ]
  },
  {
   "cell_type": "code",
   "execution_count": 33,
   "metadata": {},
   "outputs": [
    {
     "name": "stdout",
     "output_type": "stream",
     "text": [
      "[[0.5        0.33333333]\n",
      " [0.25       0.66666667]\n",
      " [0.75       0.11111111]\n",
      " [0.125      0.44444444]\n",
      " [0.625      0.77777778]\n",
      " [0.375      0.22222222]\n",
      " [0.875      0.55555556]\n",
      " [0.0625     0.88888889]\n",
      " [0.5625     0.03703704]\n",
      " [0.3125     0.37037037]\n",
      " [0.8125     0.7037037 ]\n",
      " [0.1875     0.14814815]\n",
      " [0.6875     0.48148148]\n",
      " [0.4375     0.81481481]\n",
      " [0.9375     0.25925926]\n",
      " [0.03125    0.59259259]\n",
      " [0.53125    0.92592593]\n",
      " [0.28125    0.07407407]\n",
      " [0.78125    0.40740741]\n",
      " [0.15625    0.74074074]\n",
      " [0.65625    0.18518519]]\n"
     ]
    }
   ],
   "source": [
    "#outputs halton sequence\n",
    "#from tupui/halton.py on github\n",
    "\n",
    "\n",
    "def primes_from_2_to(n):\n",
    "    \"\"\"Prime number from 2 to n.\n",
    "    From `StackOverflow <https://stackoverflow.com/questions/2068372>`_.\n",
    "    :param int n: sup bound with ``n >= 6``.\n",
    "    :return: primes in 2 <= p < n.\n",
    "    :rtype: list\n",
    "    \"\"\"\n",
    "    sieve = np.ones(n // 3 + (n % 6 == 2), dtype=np.bool)\n",
    "    for i in range(1, int(n ** 0.5) // 3 + 1):\n",
    "        if sieve[i]:\n",
    "            k = 3 * i + 1 | 1\n",
    "            sieve[k * k // 3::2 * k] = False\n",
    "            sieve[k * (k - 2 * (i & 1) + 4) // 3::2 * k] = False\n",
    "    return np.r_[2, 3, ((3 * np.nonzero(sieve)[0][1:] + 1) | 1)]\n",
    "\n",
    "\n",
    "def van_der_corput(n_sample, base=2):\n",
    "    \"\"\"Van der Corput sequence.\n",
    "    :param int n_sample: number of element of the sequence.\n",
    "    :param int base: base of the sequence.\n",
    "    :return: sequence of Van der Corput.\n",
    "    :rtype: list (n_samples,)\n",
    "    \"\"\"\n",
    "    sequence = []\n",
    "    for i in range(n_sample):\n",
    "        n_th_number, denom = 0., 1.\n",
    "        while i > 0:\n",
    "            i, remainder = divmod(i, base)\n",
    "            denom *= base\n",
    "            n_th_number += remainder / denom\n",
    "        sequence.append(n_th_number)\n",
    "\n",
    "    return sequence\n",
    "\n",
    "\n",
    "def halton(dim, n_sample):\n",
    "    \"\"\"Halton sequence.\n",
    "    :param int dim: dimension\n",
    "    :param int n_sample: number of samples.\n",
    "    :return: sequence of Halton.\n",
    "    :rtype: array_like (n_samples, n_features)\n",
    "    \"\"\"\n",
    "    big_number = 10\n",
    "    while 'Not enought primes':\n",
    "        base = primes_from_2_to(big_number)[:dim]\n",
    "        if len(base) == dim:\n",
    "            break\n",
    "        big_number += 1000\n",
    "\n",
    "    # Generate a sample using a Van der Corput sequence per dimension.\n",
    "    sample = [van_der_corput(n_sample + 1, dim) for dim in base]\n",
    "    sample = np.stack(sample, axis=-1)[1:]\n",
    "    \n",
    "    return sample\n",
    "\n",
    "print(halton(2, 21))"
   ]
  },
  {
   "cell_type": "markdown",
   "metadata": {},
   "source": [
    "## creating Halton sequence coordinates"
   ]
  },
  {
   "cell_type": "code",
   "execution_count": null,
   "metadata": {},
   "outputs": [],
   "source": [
    "def point_transform(coordinate_matrix):\n",
    "    points = []\n",
    "    for point in coordinate_matrix:\n",
    "        transform_point = np.dot(M, point)\n",
    "        points = np.append(points, transform_point)\n",
    "    return points"
   ]
  },
  {
   "cell_type": "code",
   "execution_count": 77,
   "metadata": {},
   "outputs": [],
   "source": [
    "\"\"\"Halton sequence coordinates\n",
    "    dim: dimension\n",
    "    n_sample: number of samples.\n",
    "    s: scale factor \n",
    "    \"\"\"\n",
    "def halton_coords(dim, n_sample, s):\n",
    "    #generate halton sequence as (x, y) points\n",
    "    coords = halton(dim, n_sample)\n",
    "    \n",
    "    #scale the (x,y) points to desired size\n",
    "    halton_coords = s*coords\n",
    "    \n",
    "    #insert a column of 1's \n",
    "    ones_array =np.ones((21,1))\n",
    "    coord_matrix = np.insert(halton_coords, [2], ones_array, axis =1)\n",
    "    #print('coord_matrix')\n",
    "    #print(coord_matrix)\n",
    "    \n",
    "    #calculate center of halton_coords\n",
    "    x, y = halton_coords.T\n",
    "    center_x = sum(x)/len(x)\n",
    "    center_y = sum(y)/len(y)\n",
    "    print(\"center\")\n",
    "    print(center_x, center_y)\n",
    "    \n",
    "    #create transformation matrix to move points to be centered at (0,0)\n",
    "    M = np.array([[1,0,-center_x],[0,1,-center_y]])\n",
    "    #print('transformation matrix')\n",
    "    #print(M)\n",
    "    \n",
    "    #translate halton_coords and format to be plotted \n",
    "    point_array = point_transform(coord_matrix)\n",
    "    #print('point_array')\n",
    "    #print(point_array)\n",
    "    \n",
    "    #splits into (x,y) points\n",
    "    split = 2\n",
    "    placeholder = [point_array[x:x+split] for x in range(0, len(point_array), split)]\n",
    "    split_points = np.asarray(placeholder)\n",
    "    #print('split_points')\n",
    "    #print(split_points)\n",
    "    \n",
    "    xx, yy = split_points.T\n",
    "    #print('xx, and  yy')\n",
    "    #print(xx,yy)\n",
    "    \n",
    "    return xx, yy"
   ]
  },
  {
   "cell_type": "code",
   "execution_count": 78,
   "metadata": {},
   "outputs": [
    {
     "name": "stdout",
     "output_type": "stream",
     "text": [
      "center\n",
      "381.88392857142856 374.3227513227513\n",
      "[  72.25    -129.5      274.      -230.375    173.125    -28.625\n",
      "  374.875   -280.8125   122.6875   -79.0625   324.4375  -179.9375\n",
      "  223.5625    21.8125   425.3125  -306.03125   97.46875 -104.28125\n",
      "  299.21875 -205.15625  198.34375] [ -55.69135802  213.30864198 -235.02469136   33.97530864  302.97530864\n",
      " -145.35802469  123.64197531  392.64197531 -294.80246914  -25.80246914\n",
      "  243.19753086 -205.13580247   63.86419753  332.86419753 -115.4691358\n",
      "  153.5308642   422.5308642  -264.91358025    4.08641975  273.08641975\n",
      " -175.24691358]\n",
      "(50.63392857142857, 49.63139329806001)\n"
     ]
    }
   ],
   "source": [
    "xx, yy = halton_coords(2,21,807)\n",
    "center = sum(xx)/len(xx), sum(yy)/len(yy)\n",
    "print(xx, yy)\n",
    "print(center)"
   ]
  },
  {
   "cell_type": "code",
   "execution_count": 74,
   "metadata": {},
   "outputs": [],
   "source": [
    "\"\"\"  x: choosen x cooordinates\n",
    "     y: choosen y coordinates\n",
    "     random_gen: random number generator used to create x,y coordinates\n",
    "\"\"\"\n",
    "def plot_2d_icetop(x, y, random_gen):\n",
    "    fig, ax = plt.subplots()\n",
    "    ax.set_xlabel('X-axis (m)')\n",
    "    ax.set_ylabel('Y-axis (m)')\n",
    "    ax.set_title(\"2D Gen2 Randomized Geometry with IceTop \\n\" + random_gen)\n",
    "    IC_bounds()\n",
    "    ax.scatter(x, y, s =9, c='blue')\n",
    "    return fig\n",
    "    "
   ]
  },
  {
   "cell_type": "code",
   "execution_count": 75,
   "metadata": {},
   "outputs": [
    {
     "name": "stdout",
     "output_type": "stream",
     "text": [
      "done\n"
     ]
    },
    {
     "data": {
      "image/png": "[encoded data removed]",
      "text/plain": [
       "<Figure size 432x288 with 1 Axes>"
      ]
     },
     "metadata": {
      "needs_background": "light"
     },
     "output_type": "display_data"
    }
   ],
   "source": [
    "plot_2d_icetop(xx,yy, \"using halton\")\n",
    "print(\"done\")"
   ]
  },
  {
   "cell_type": "code",
   "execution_count": null,
   "metadata": {},
   "outputs": [],
   "source": []
  }
 ],
 "metadata": {
  "kernelspec": {
   "display_name": "Python 3",
   "language": "python",
   "name": "python3"
  },
  "language_info": {
   "codemirror_mode": {
    "name": "ipython",
    "version": 3
   },
   "file_extension": ".py",
   "mimetype": "text/x-python",
   "name": "python",
   "nbconvert_exporter": "python",
   "pygments_lexer": "ipython3",
   "version": "3.7.5"
  }
 },
 "nbformat": 4,
 "nbformat_minor": 5
}
